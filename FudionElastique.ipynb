{
  "nbformat": 4,
  "nbformat_minor": 0,
  "metadata": {
    "colab": {
      "private_outputs": true,
      "provenance": [],
      "toc_visible": true,
      "authorship_tag": "ABX9TyOiNgOQQlwfkN1Zx2F6+zeG",
      "include_colab_link": true
    },
    "kernelspec": {
      "name": "python3",
      "display_name": "Python 3"
    },
    "language_info": {
      "name": "python"
    },
    "accelerator": "GPU",
    "gpuClass": "standard"
  },
  "cells": [
    {
      "cell_type": "markdown",
      "metadata": {
        "id": "view-in-github",
        "colab_type": "text"
      },
      "source": [
        "<a href=\"https://colab.research.google.com/github/JamorMoussa/Biopsy/blob/main/FudionElastique.ipynb\" target=\"_parent\"><img src=\"https://colab.research.google.com/assets/colab-badge.svg\" alt=\"Open In Colab\"/></a>"
      ]
    },
    {
      "cell_type": "code",
      "execution_count": null,
      "metadata": {
        "id": "Fj4cnatjJT2t"
      },
      "outputs": [],
      "source": [
        "import cv2 \n",
        "import numpy as np\n",
        "import pandas as pd"
      ]
    },
    {
      "cell_type": "code",
      "source": [
        "!pip install ultralytics"
      ],
      "metadata": {
        "id": "qmTXaUtMQjeK"
      },
      "execution_count": null,
      "outputs": []
    },
    {
      "cell_type": "code",
      "source": [
        "from ultralytics import YOLO\n",
        "\n",
        "# Load a model\n",
        "model = YOLO(\"/content/best.pt\")  # load a pretrained model (recommended for training)\n",
        "\n",
        "# Use the model\n",
        "results = model.predict(source=\"/content/MainVideo.mp4\")"
      ],
      "metadata": {
        "id": "y8s2CuX2NOGS"
      },
      "execution_count": null,
      "outputs": []
    },
    {
      "cell_type": "code",
      "source": [
        "BOX=pd.DataFrame(columns=range(6))\n",
        "for i in range(len(results)):\n",
        "    arri=pd.DataFrame(results[i].boxes.boxes).astype(float)\n",
        "    arri['i']=i\n",
        "    BOX=pd.concat([BOX,arri])\n",
        "BOX.columns=['x','y','x2','y2','confidence','class','i']\n",
        "display(BOX)"
      ],
      "metadata": {
        "id": "I1TH5nTPRY-R"
      },
      "execution_count": null,
      "outputs": []
    },
    {
      "cell_type": "code",
      "source": [
        "pos = BOX[BOX.columns[:4]].to_numpy()"
      ],
      "metadata": {
        "id": "o6U8_oupRzp0"
      },
      "execution_count": null,
      "outputs": []
    },
    {
      "cell_type": "code",
      "source": [
        "len(pos)"
      ],
      "metadata": {
        "id": "ocruIIjaUgVh"
      },
      "execution_count": null,
      "outputs": []
    },
    {
      "cell_type": "code",
      "source": [
        "im  = cv2.imread('/content/sw.png')"
      ],
      "metadata": {
        "id": "rXOxoBLoS5IF"
      },
      "execution_count": null,
      "outputs": []
    },
    {
      "cell_type": "code",
      "source": [
        "sum([1,2,3])"
      ],
      "metadata": {
        "id": "eXncDCT61TT_"
      },
      "execution_count": null,
      "outputs": []
    },
    {
      "cell_type": "code",
      "source": [
        "a = np.array([[[1,2,3],\n",
        "          [4,5,6]],\n",
        "          [[1,2,3],\n",
        "          [4,5,6]]])\n"
      ],
      "metadata": {
        "id": "5ZU5VCXh1Wpr"
      },
      "execution_count": null,
      "outputs": []
    },
    {
      "cell_type": "code",
      "source": [
        "sum(a[1,1])"
      ],
      "metadata": {
        "id": "_IpTGovy1gk4"
      },
      "execution_count": null,
      "outputs": []
    },
    {
      "cell_type": "code",
      "source": [
        "imgray.shape"
      ],
      "metadata": {
        "id": "oDBt4s-Mz3m3"
      },
      "execution_count": null,
      "outputs": []
    },
    {
      "cell_type": "code",
      "source": [
        "cv2.imwrite('imgray.png',imgray)"
      ],
      "metadata": {
        "id": "fVHfR8dQzrt2"
      },
      "execution_count": null,
      "outputs": []
    },
    {
      "cell_type": "code",
      "source": [
        "im[:,:] = im[:,:] * np.array([0,0,1]) "
      ],
      "metadata": {
        "id": "T0pljuJKlQYK"
      },
      "execution_count": null,
      "outputs": []
    },
    {
      "cell_type": "code",
      "source": [
        "cv2.imwrite('/content/image_to_fusion.png',im)"
      ],
      "metadata": {
        "id": "yxFyy9LVn7Wp"
      },
      "execution_count": null,
      "outputs": []
    },
    {
      "cell_type": "code",
      "source": [
        "def Fusion(im1, im2, pos1 , pos2, opacity):\n",
        "  im2 = cv2.resize(im2, (pos2[0] - pos1[0], pos2[1]- pos1[1]))\n",
        "  im1[pos1[1]:pos2[1],pos1[0]:pos2[0]] = opacity*im1[pos1[1]:pos2[1],pos1[0]:pos2[0]] + (1-opacity) * im2\n",
        "  return im1 "
      ],
      "metadata": {
        "id": "HxyzbZtofcJ0"
      },
      "execution_count": null,
      "outputs": []
    },
    {
      "cell_type": "code",
      "source": [
        "from ultralytics import YOLO\n",
        "import numpy as np\n",
        "import cv2\n",
        "\n",
        "model = YOLO('/content/best.pt')\n",
        "\n",
        " \n",
        "cap = cv2.VideoCapture('/content/MainVideo.mp4')\n",
        "out = cv2.VideoWriter('/content/output9.mp4',cv2.VideoWriter_fourcc(*'XVID'), 20.0, (854,480))\n",
        "i = 0\n",
        "try:\n",
        "  while(cap.isOpened()):\n",
        "    ret, frame = cap.read()\n",
        "    if ret == True:\n",
        "\n",
        "\n",
        "      x, y, w, h = pos[i]\n",
        "\n",
        "      i+=1\n",
        "\n",
        "      frame = Fusion(frame, im, (int(x),int(y)),(int(w),int(h)),0.6)\n",
        "\n",
        "      frame = cv2.rectangle(frame, (int(x), int(y)), (int(w), int(h)), (0, 255, 0) , 1)\n",
        "\n",
        "\n",
        "      out.write(frame)\n",
        "\n",
        "\n",
        "      if cv2.waitKey(25) & 0xFF == ord('q'):\n",
        "        break\n",
        "    else: \n",
        "      break\n",
        "except Exception as e:\n",
        "  raise e\n",
        "  cap.release()\n",
        "  out.release() \n",
        " \n",
        "cap.release()\n",
        "out.release()\n",
        "\n",
        "cv2.destroyAllWindows()\n",
        "\n"
      ],
      "metadata": {
        "id": "LemeSE3XSJce"
      },
      "execution_count": null,
      "outputs": []
    },
    {
      "cell_type": "code",
      "source": [],
      "metadata": {
        "id": "nGgcej4iVsiO"
      },
      "execution_count": null,
      "outputs": []
    }
  ]
}